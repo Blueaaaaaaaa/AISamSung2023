{
  "nbformat": 4,
  "nbformat_minor": 0,
  "metadata": {
    "colab": {
      "provenance": []
    },
    "kernelspec": {
      "name": "python3",
      "display_name": "Python 3"
    },
    "language_info": {
      "name": "python"
    }
  },
  "cells": [
    {
      "cell_type": "markdown",
      "source": [
        "TF-IDF là viết tắt của Hai khái niệm:\n",
        "\n",
        "TF (Term Frequency): Tần số của một từ trong một tài liệu. Được tính bằng cách chia số lần xuất hiện của từ đó cho tổng số từ trong tài liệu.\n",
        "\n",
        "IDF (Inverse Document Frequency): Đo lường mức độ quan trọng của một từ trong toàn bộ tập hợp tài liệu. Các từ xuất hiện thường xuyên trong nhiều tài liệu thì có ít quan trọng (như 'is', 'the', 'and', v.v.). Được tính bằng cách lấy logarit của tổng số tài liệu chia cho số tài liệu chứa từ đó."
      ],
      "metadata": {
        "id": "H1qZUhOYrint"
      }
    },
    {
      "cell_type": "code",
      "source": [
        "from sklearn.feature_extraction.text import TfidfVectorizer\n",
        "\n",
        "# Danh sách các tài liệu\n",
        "documents = ['This is the first document.', 'This document is the second document.', 'And this is the third one.', 'Is this the first document?']\n",
        "\n",
        "# Khởi tạo TfidfVectorizer\n",
        "vectorizer = TfidfVectorizer(stop_words= 'english')\n",
        "\n",
        "# Học từ vựng và tính toán ma trận TF-IDF\n",
        "X = vectorizer.fit_transform(documents)\n",
        "print(vectorizer.vocabulary_)\n",
        "# Lấy từ điển và sắp xếp các mục theo giá trị\n",
        "sorted_items = sorted(vectorizer.vocabulary_.items(), key=lambda x: x[1])\n",
        "\n",
        "# Tạo danh sách các từ, bỏ qua các chỉ số\n",
        "feature_names = [item[0] for item in sorted_items]\n",
        "\n",
        "# In ra danh sách các từ\n",
        "print(feature_names)\n",
        "# In ra ma trận TF-IDF\n",
        "print(X.shape)\n",
        "print(X.toarray())"
      ],
      "metadata": {
        "colab": {
          "base_uri": "https://localhost:8080/"
        },
        "id": "uwbirVdgq6ou",
        "outputId": "509b1da2-b375-442d-d54e-b996c4eaac96"
      },
      "execution_count": 15,
      "outputs": [
        {
          "output_type": "stream",
          "name": "stdout",
          "text": [
            "{'document': 0, 'second': 1}\n",
            "['document', 'second']\n",
            "(4, 2)\n",
            "[[1.         0.        ]\n",
            " [0.78722298 0.61666846]\n",
            " [0.         0.        ]\n",
            " [1.         0.        ]]\n"
          ]
        }
      ]
    },
    {
      "cell_type": "markdown",
      "source": [
        "TF-IDF được tính như sau:\n",
        "\n",
        "TF (Tần số thuật ngữ) là tần số xuất hiện của một từ trong tài liệu. Trong trường hợp này, từ \"document\" xuất hiện 2 lần trong một tài liệu có 4 từ (sau khi loại bỏ stop words), vì vậy TF = 2/3.\n",
        "\n",
        "IDF (Tần số tài liệu nghịch đảo) là một giá trị mà nó lấy logarithm của tổng số tài liệu chia cho số lượng tài liệu mà từ đó xuất hiện. Trong trường hợp này, có tổng cộng 4 tài liệu và từ \"document\" xuất hiện trong 3 tài liệu. IDF được tính như sau: IDF = log(4/3) = 0.28768 (sử dụng logarit tự nhiên).\n",
        "\n",
        "TF-IDF sau đó được tính bằng cách nhân TF và IDF: TF-IDF = TF * IDF = 2.3 * 0.28768 = 0.19178496.\n",
        "\n",
        "Tuy nhiên, TfidfVectorizer trong sklearn áp dụng một số biến thể của công thức trên. Đầu tiên, nó thêm 1 vào mẫu và tử số trong công thức IDF, giúp ngăn chặn chia cho 0. Thứ hai, nó áp dụng chuẩn hóa L2 (Euclidean) trên vector TF-IDF.\n",
        "\n",
        "IDF (được điều chỉnh): IDF = log((1+4)/(1+3)) + 1 = 0.28768 + 1 = 1.28768.\n",
        "\n",
        "TF-IDF (được điều chỉnh): TF-IDF = TF * IDF = 2/3 * 1.28768 = 0.64384.\n",
        "\n",
        "Sau đó, chúng ta áp dụng chuẩn hóa L2. Vector TF-IDF (trước khi chuẩn hóa) cho câu thứ 2 là [0.64384, 0.64384] (cho từ \"document\" và \"second\"). Norm L2 của vector này là sqrt(0.64384^2 + 0.64384^2) = 0.91024.\n",
        "\n",
        "Vậy, giá trị TF-IDF sau khi chuẩn hóa L2 cho từ \"document\" là 0.64384 / 0.91024 = 0.70711, và giá trị cho từ \"second\" cũng tương tự.\n",
        "\n",
        "Tuy nhiên, giá trị bạn nhận được là 0.78722, khác một chút so với kết quả tính toán trên. Điều này có thể do việc sử dụng smooth_idf=True (mặc định trong TfidfVectorizer của sklearn) đã thêm 1 vào số liệu trước khi chia, và thêm 1 vào kết quả cuối cùng của IDF, giúp làm mịn giá trị IDF và ngăn chặn việc chia cho 0. Thêm vào đó, việc tính toán số liệu trong thư viện có thể bao gồm một số phép làm tròn và sai số dấu phẩy động nhỏ."
      ],
      "metadata": {
        "id": "DCqXXp2JsKRs"
      }
    }
  ]
}