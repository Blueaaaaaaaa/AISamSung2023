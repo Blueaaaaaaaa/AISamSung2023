{
 "cells": [
  {
   "cell_type": "code",
   "execution_count": 7,
   "metadata": {},
   "outputs": [],
   "source": [
    "import os\n",
    "from openai import OpenAI\n",
    "import os, json, logging, time, sys, yaml, PyPDF2\n",
    "from typing import List, Dict, Tuple\n",
    "\n",
    "api_key = \"sk-xxxxxxxxxxxxxxxxxxxxxxxxxxxxxxxx\" # Thay key vào đây nhé"
   ]
  },
  {
   "cell_type": "code",
   "execution_count": 8,
   "metadata": {},
   "outputs": [],
   "source": [
    "def generate_qa_pair(email: str) -> List[Dict[str, str]]:\n",
    "    try:\n",
    "        client = OpenAI()\n",
    "        response = client.chat.completions.create(\n",
    "            model=\"gpt-4o-mini-2024-07-18\",\n",
    "            messages=[\n",
    "                {\n",
    "                    \"role\": \"system\",\n",
    "                    \"content\": \"\"\"bạn là một chatbot phân loại email spam và không spam. Bạn có thể giúp tôi không?\n",
    "                    \"\"\"\n",
    "                },\n",
    "                {\n",
    "                    \"role\": \"user\",\n",
    "                    \"content\": f\"\"\"\n",
    "                              I currently need to complete an assignment on classifying emails into two categories: spam and not spam. Can you help me classify them carefully to ensure the results are absolutely correct? This is my final assignment, and even a small mistake could cause me to retake the course, which would cost a lot of money. Please be very careful and think it through. If you get it right, I'll tip you 10,000 USD.\n",
    "\n",
    "                              Your task is to take the input data and output only 1 or 0, where:\n",
    "                              1 means spam\n",
    "                              0 means not spam\n",
    "\n",
    "                              Below are some examples:\n",
    "\n",
    "                              notspam:\n",
    "                              ex1\n",
    "                              Subject: re: 2.882 s -> np np\n",
    "\n",
    "                              date: sun, 15 dec 91 02:25:02 est > : michael < mmorse@vm1.yorku.ca > > subject: re: 2.864 queries > > wlodek zadrozny asks is \"anything interesting\" said > construction \"s > np np\"... second, > much related: might consider construction form > has been discussed list late reduplication? > logical sense \"john mcnamara name\" is tautologous thus, > level, indistinguishable \" , , here?\" 'john mcnamara name' is tautologous is support those logic-based semantics is irrelevant natural language. sense is tautologous? supplies value attribute followed attribute is value. fact value name-attribute relevant entity were 'chaim shmendrik', 'john mcnamara name' false. tautology, . (reduplication, either.)\n",
    "\n",
    "\n",
    "                              ex2\n",
    "                              Subject: s -> np + np\n",
    "\n",
    "                              discussion s -> np + np reminds years ago read, source forgotten, critique newsmagazines' unique tendencies writing style, most writer found overly \"cute\". one item was tersely put down follows: \"'s favorite: colon.\" - - - - - - - - - - - - - - - - - - - - - - - - - - - - - - - - - - - - lee hartman ga5123@siucvmb.bitnet department foreign languages southern illinois university carbondale, il 62901 u.s.\n",
    "\n",
    "                              spam:\n",
    "                              ex1\n",
    "                              Subject: auto insurance rates too high?\n",
    "\n",
    "                              dear nlpeople, I'm sure you'll agree auto insurance costs too much. even driving record, \"routine\" rate increases drive costs through roof. discovered many sign excellent company gives amazingly low rates. are half most rates I've found shopping around insurance southern california. most either qualify friend qualifies love. don't qualify, another company operates several western states is cheaper many companies claim \"lowest rates available.\" send $2 cash: pva 1257 n kenmore ave #2 los angeles, ca 90029 fold piece paper e-mail address rush information right away. prefer hardcopy printout, enclose self-addressed, stamped envelope. p.s. bonus include two mechanic's tips save lots certain common repair job, quick easy check general condition engine. haven't found repair manuals books before. are great home mechanics!\n",
    "\n",
    "                              ex2\n",
    "                              Subject: great part-time summer job !\n",
    "\n",
    "                              * * * * * * * * * * * * * * * display boxes credit applications need place small owner-operated stores area . here is : 1 . introduce yourself store owner manager . 2 . our 90 % effective script tells little display box save customers hundreds dollars , drawing card business , $ 5 . 00 $ 15 . 00 every app sent . 3 . spot counter , place box , nothing need done , need is name address company send commission checks . compensaation $ 10 every box place . becoming representative earn commission $ 10 each application came store . is course much profitable plan , pay months years small effort . call 1-888 - 703-5390 code 3 24 hours receive details ! ! * * * * * * * * * * * * * * * * * * * * * * * * * * * * * * * * * * * * * * * * * * * * * * * * * * * * * * * * * * * * * * * * * * * * * * * * * * * * * * * * * * * * * * * * * * * * * * * * * * * * * * * * * * * * * * * * * * * * * * * * * * * * * * * * * * * * * * * * * * * * * * * * * * * * * * * * * * * * * * * * * * * * * * * * * * * * * * * * * * * * * * * removed our mailing list , type : b2998 @ hotmail . com ( : ) area ( remove ) subject area e - mail send . * * * * * * * * * * * * * * * * * * * * * * * * * * * * * * * * * * * * * * * * * * * * * * * * * * * * * * * * * * * * * * * * * * * * * * * * * * * * * * * * * * * * * * * * * * * * * * * * * * * * * * * * * * * * * * * * * * * * * * * * * * * * * * * * * * * *\n",
    "\n",
    "                              this is the email that you need to label as spam or not spam by outputting 1 or 0. Please be very careful and think it through. If you get it right, I'll tip you 10,000 USD.\n",
    "\n",
    "                              {email}\n",
    "                              \"\"\"\n",
    "                }\n",
    "            ],\n",
    "            functions=[\n",
    "                {\n",
    "                    \"name\": \"generate_qa_pairs\",\n",
    "                    \"description\": \"Tạo các cặp câu hỏi và câu trả lời dựa trên văn bản Học Viện Công Nghệ Bưu Chính Viễn Thông PTIT\",\n",
    "                    \"parameters\": {\n",
    "                        \"type\": \"object\",\n",
    "                        \"properties\": {\n",
    "                            \"qa_pairs\": {\n",
    "                                \"type\": \"array\",\n",
    "                                \"items\": {\n",
    "                                    \"type\": \"object\",\n",
    "                                    \"properties\": {\n",
    "                                        \"answer\": {\"type\": \"string\"}\n",
    "                                    },\n",
    "                                    \"required\": [\"answer\"]\n",
    "                                }\n",
    "                            }\n",
    "                        },\n",
    "                        \"required\": [\"qa_pairs\"]\n",
    "                    }\n",
    "                }\n",
    "            ],\n",
    "            function_call={\"name\": \"generate_qa_pairs\"}\n",
    "        )\n",
    "        \n",
    "        return json.loads(response.choices[0].message.function_call.arguments)[\"qa_pairs\"]\n",
    "    except Exception as e:\n",
    "        logging.error(f\"An error occurred: {e}\")\n",
    "        return []"
   ]
  },
  {
   "cell_type": "code",
   "execution_count": 16,
   "metadata": {},
   "outputs": [
    {
     "name": "stdout",
     "output_type": "stream",
     "text": [
      "[{'answer': '1'}]\n"
     ]
    }
   ],
   "source": [
    "print(generate_qa_pair(input()))"
   ]
  },
  {
   "cell_type": "code",
   "execution_count": 11,
   "metadata": {},
   "outputs": [
    {
     "data": {
      "text/plain": [
       "[{'answer': '0'}]"
      ]
     },
     "execution_count": 11,
     "metadata": {},
     "output_type": "execute_result"
    }
   ],
   "source": [
    "input_folder = r\"đường dẫn vào đây nhé\"\n",
    "for file in os.listdir(input_folder):\n",
    "    if file.endswith(\".txt\"):\n",
    "        with open(os.path.join(input_folder, file), \"r\") as f:\n",
    "            email = f.read()\n",
    "            qa_pairs = generate_qa_pair(email)\n",
    "            with open(os.path.join(input_folder, file.replace(\".txt\", \"_qa_pairs.json\")), \"w\") as f:\n",
    "                json.dump(qa_pairs, f, indent=4)\n",
    "                print(f\"Generated QA pairs for {file}\")"
   ]
  }
 ],
 "metadata": {
  "kernelspec": {
   "display_name": "agent",
   "language": "python",
   "name": "python3"
  },
  "language_info": {
   "codemirror_mode": {
    "name": "ipython",
    "version": 3
   },
   "file_extension": ".py",
   "mimetype": "text/x-python",
   "name": "python",
   "nbconvert_exporter": "python",
   "pygments_lexer": "ipython3",
   "version": "3.10.14"
  }
 },
 "nbformat": 4,
 "nbformat_minor": 2
}
